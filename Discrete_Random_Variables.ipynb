{
 "cells": [
  {
   "cell_type": "markdown",
   "metadata": {},
   "source": [
    "## 1. Discrete random variables\n",
    "\n",
    "- In this Notebook you learn how to deal with discrete random variables. \n",
    "- Many of the functions we will use are included in the `random` subpackage of `numpy`. \n",
    "- We will import this package and call it `rnd` so that we don't have to type `np.random.` all the time."
   ]
  },
  {
   "cell_type": "code",
   "execution_count": 2,
   "metadata": {},
   "outputs": [],
   "source": [
    "%matplotlib inline\n",
    "import numpy as np\n",
    "import matplotlib.pyplot as plt\n",
    "import numpy.random as rnd"
   ]
  },
  {
   "cell_type": "markdown",
   "metadata": {},
   "source": [
    "### Random numbers\n",
    "\n",
    "- A random number generator lets you draw, at random, a number from a specified distribution. \n",
    "- Several random number generators are included in the `random` subpackage of `numpy`. \n",
    "- the `randint(low, high, size)` function returns an integer array of shape `size` at random from `low` up to (but not including) `high`. \n",
    "\n",
    "For example, \n",
    "- let's flip a coin 10 times and assign a 0 to heads and a 1 to tails. \n",
    "- Note that the `high` is specified as `1 + 1`, which means it is `1` higher than the value we want."
   ]
  },
  {
   "cell_type": "code",
   "execution_count": 2,
   "metadata": {},
   "outputs": [
    {
     "data": {
      "text/plain": [
       "array([0, 1, 1, 0, 1, 1, 1, 0, 1, 0])"
      ]
     },
     "execution_count": 2,
     "metadata": {},
     "output_type": "execute_result"
    }
   ],
   "source": [
    "rnd.randint(0, 1 + 1, 10)"
   ]
  },
  {
   "cell_type": "markdown",
   "metadata": {},
   "source": [
    "If we call the `randint` function again, we get a different sequence of heads (zeros) and tails (ones):"
   ]
  },
  {
   "cell_type": "code",
   "execution_count": 3,
   "metadata": {},
   "outputs": [
    {
     "data": {
      "text/plain": [
       "array([0, 0, 1, 0, 1, 0, 1, 1, 0, 1])"
      ]
     },
     "execution_count": 3,
     "metadata": {},
     "output_type": "execute_result"
    }
   ],
   "source": [
    "rnd.randint(0, 1+1, 10)"
   ]
  },
  {
   "cell_type": "markdown",
   "metadata": {},
   "source": [
    "- Internally, the random number generator starts with what is called a *seed*. \n",
    "- The seed is a number and is generated automatically (and supposedly at random) when you call the random number generator. \n",
    "- The value of the seed exactly defines the sequence of random numbers that you get (so some people may argue that the generated sequence is at best pseudo-random, and you may not want to use the sequence for any serious cryptographic use, but for our purposes they are random enough). \n",
    "\n",
    "For example, let's set `seed` equal to 10"
   ]
  },
  {
   "cell_type": "code",
   "execution_count": 4,
   "metadata": {},
   "outputs": [
    {
     "data": {
      "text/plain": [
       "array([1, 1, 0, 1, 0, 1, 1, 0, 1, 1])"
      ]
     },
     "execution_count": 4,
     "metadata": {},
     "output_type": "execute_result"
    }
   ],
   "source": [
    "rnd.seed(10)\n",
    "rnd.randint(0, 1 + 1, 10)"
   ]
  },
  {
   "cell_type": "markdown",
   "metadata": {},
   "source": [
    "If we now specify the seed again as 10, we can generate the exact same sequence"
   ]
  },
  {
   "cell_type": "code",
   "execution_count": 5,
   "metadata": {},
   "outputs": [
    {
     "data": {
      "text/plain": [
       "array([1, 1, 0, 1, 0, 1, 1, 0, 1, 1])"
      ]
     },
     "execution_count": 5,
     "metadata": {},
     "output_type": "execute_result"
    }
   ],
   "source": [
    "rnd.seed(10)\n",
    "rnd.randint(0, 1+1, 10)"
   ]
  },
  {
   "cell_type": "markdown",
   "metadata": {},
   "source": [
    "- The ability to generate the exact same sequence is useful during code development. \n",
    "\n",
    "For example, by seeding the random number generator, you can compare your output to output of others trying to solve the same problem. "
   ]
  },
  {
   "cell_type": "markdown",
   "metadata": {},
   "source": [
    "### Flipping a coin\n",
    "\n",
    "Enough for now about random number generators. \n",
    "\n",
    "Let's flip a coin 100 times and count the number of heads (0-s) and the number of tails (1-s):"
   ]
  },
  {
   "cell_type": "code",
   "execution_count": 6,
   "metadata": {},
   "outputs": [],
   "source": [
    "flip = rnd.randint(0, 1 + 1, 100)\n",
    "# print(flip)"
   ]
  },
  {
   "cell_type": "code",
   "execution_count": 7,
   "metadata": {},
   "outputs": [
    {
     "name": "stdout",
     "output_type": "stream",
     "text": [
      "number of heads: 48\n",
      "number of tails: 52\n"
     ]
    }
   ],
   "source": [
    "headcount = 0\n",
    "tailcount = 0\n",
    "for i in range(100):\n",
    "    if flip[i] == 0:\n",
    "        headcount += 1       # headcount = headcount + 1\n",
    "    else:\n",
    "        tailcount += 1       # tailcount = tailcount + 1\n",
    "        \n",
    "print('number of heads:', headcount)\n",
    "print('number of tails:', tailcount)"
   ]
  },
  {
   "cell_type": "markdown",
   "metadata": {},
   "source": [
    "- First of all, note that the number of heads and the number of tails adds up to 100. \n",
    "- Also, note how we counted the heads and tails. \n",
    "- We created counters `headcount` and `tailcount`, looped through all flips, and added 1 to the appropriate counter. \n",
    "- Instead of a loop, we could have used a condition for the indices combined with a summation as follows."
   ]
  },
  {
   "cell_type": "code",
   "execution_count": 7,
   "metadata": {},
   "outputs": [
    {
     "name": "stdout",
     "output_type": "stream",
     "text": [
      "headcount 59\n",
      "tailcount 41\n"
     ]
    }
   ],
   "source": [
    "headcount = np.count_nonzero(flip == 0)\n",
    "tailcount = np.count_nonzero(flip == 1)\n",
    "print('headcount', headcount)\n",
    "print('tailcount', tailcount)"
   ]
  },
  {
   "cell_type": "markdown",
   "metadata": {},
   "source": [
    "How does that work? \n",
    "- You may recall that the `flip == 0` statement returns an array with length 100 (equal to the lenght of `flip`) with the value `True` when the condition is met, and `False` when the condition is not met. \n",
    "- The boolean `True` has the value 1, and the boolean `False` has the value 0. So we simply need to count the nonzero values using the `np.count_nonzero` function to find out how many items are `True`. \n",
    "\n",
    "The code above is easy, but if we do an experiment with more than two outcomes, it may be cumbersome to count the non-zero items for every possible outcome. \n",
    "\n",
    "So let's try to rewrite this part of the code using a loop. \n",
    "\n",
    "For this specific case, the number of lines of code doesn't decrease, but when we have an experiment with many different outcomes this will be much more efficient. \n",
    "\n",
    "Note that `dtype='int'` sets the array to integers."
   ]
  },
  {
   "cell_type": "code",
   "execution_count": 8,
   "metadata": {},
   "outputs": [
    {
     "name": "stdout",
     "output_type": "stream",
     "text": [
      "outcome 0 is 48\n",
      "outcome 1 is 52\n"
     ]
    }
   ],
   "source": [
    "outcomes = np.zeros(2, dtype='int') # Two outcomes. heads are stored in outcome[0], tails in outcome[1]\n",
    "for i in range (2):\n",
    "    outcomes[i] = np.count_nonzero(flip == i)\n",
    "    print(f'outcome {i} is {outcomes[i]}')"
   ]
  },
  {
   "cell_type": "markdown",
   "metadata": {},
   "source": [
    "### HW3-1. Throwing a dice\n",
    "\n",
    "Throw a dice 100 times and report how many times you throw 1, 2, 3, 4, 5, and 6. \n",
    "\n",
    "Use a seed of 33. \n",
    "\n",
    "Make sure that the reported values add up to 100. \n",
    "\n",
    "Make sure you use a loop in your code as we did in the previous code cell."
   ]
  },
  {
   "cell_type": "code",
   "execution_count": 46,
   "metadata": {
    "tags": []
   },
   "outputs": [],
   "source": [
    "%matplotlib inline\n",
    "import numpy as np\n",
    "import matplotlib.pyplot as plt\n",
    "import numpy.random as rnd"
   ]
  },
  {
   "cell_type": "code",
   "execution_count": 47,
   "metadata": {
    "tags": []
   },
   "outputs": [
    {
     "name": "stdout",
     "output_type": "stream",
     "text": [
      "number of times 1 is 17\n",
      "number of times 2 is 17\n",
      "number of times 3 is 15\n",
      "number of times 4 is 24\n",
      "number of times 5 is 19\n",
      "number of times 6 is 8\n",
      "total number of throws 100\n"
     ]
    }
   ],
   "source": [
    "rnd.seed(33)\n",
    "dice = rnd.randint(1, 7, 100)\n",
    "\n",
    "outcomes = np.zeros(6, dtype='int')\n",
    "# print(outcomes)\n",
    "for i in range(6):\n",
    "    outcomes[i] = np.count_nonzero(dice == i+1)\n",
    "    print(f'number of times {i+1} is {outcomes[i]}')\n",
    "\n",
    "print(f'total number of throws {sum(outcomes)}')\n",
    "# Add you program here\n",
    "# You can consider to use rnd.randint(), np.zeros(), np.count_nonzero()\n",
    "# print format as below"
   ]
  },
  {
   "cell_type": "markdown",
   "metadata": {},
   "source": [
    "**Output:**\n",
    "\n",
    "number of times 1 is xx\n",
    "\n",
    "number of times 2 is xx\n",
    "\n",
    "number of times 3 is xx\n",
    "\n",
    "number of times 4 is xx\n",
    "\n",
    "number of times 5 is xx\n",
    "\n",
    "number of times 6 is xx\n",
    "\n",
    "total number of throws  100"
   ]
  },
  {
   "cell_type": "markdown",
   "metadata": {},
   "source": [
    "### Flipping a coin twice\n",
    "\n",
    "Next, we are going to flip a coin twice for **100 times** and count the number of tails in **two throws**. \n",
    "\n",
    "We generate a random array of 0-s (heads) and 1-s (tails) with two rows (representing two coin flips) and 100 colums. \n",
    "\n",
    "The sum of the two rows represents the number of tails. \n",
    "\n",
    "Recall that the `np.sum` function takes an array as input argument and by default sums all the values in the array and returns one number. \n",
    "\n",
    "In this case we want to sum the rows. For that, the `sum` function has a keyword argument called `axis`, where `axis=0` sums over index 0 of the array (the __rows__), `axis=1` sums over the index 1 of the array (the __columns__), etc."
   ]
  },
  {
   "cell_type": "code",
   "execution_count": 13,
   "metadata": {},
   "outputs": [
    {
     "name": "stdout",
     "output_type": "stream",
     "text": [
      "[[1 0 1 0 1 1 1 1 1 1 1 1 0 0 1 0 0 1 1 0 0 0 1 1 1 1 1 1 0 1 0 1 1 1 1 0\n",
      "  1 0 1 1 1 0 1 0 0 0 0 0 0 1 1 0 1 0 0 0 1 0 1 1 0 0 1 0 1 1 1 0 0 0 1 1\n",
      "  1 0 0 0 0 1 0 0 1 1 0 0 0 1 0 0 1 0 1 1 1 0 1 0 1 0 1 0]\n",
      " [0 0 1 1 1 0 1 1 0 0 0 1 1 0 1 1 0 1 0 0 0 1 0 0 1 0 0 0 0 1 0 1 0 0 0 0\n",
      "  1 0 1 1 1 1 1 1 1 1 1 1 0 0 0 0 1 0 1 0 0 1 1 0 0 1 1 0 1 1 1 0 1 1 0 1\n",
      "  1 1 0 0 1 0 0 1 0 0 1 1 0 0 0 0 1 0 0 0 1 0 0 0 1 0 0 0]]\n"
     ]
    }
   ],
   "source": [
    "rnd.seed(55)\n",
    "flips = rnd.randint(low=0, high=1 + 1, size=(2, 100))    #size=(row size, sample size)\n",
    "print(flips)\n"
   ]
  },
  {
   "cell_type": "code",
   "execution_count": 14,
   "metadata": {},
   "outputs": [
    {
     "name": "stdout",
     "output_type": "stream",
     "text": [
      "[1 0 2 1 2 1 2 2 1 1 1 2 1 0 2 1 0 2 1 0 0 1 1 1 2 1 1 1 0 2 0 2 1 1 1 0 2\n",
      " 0 2 2 2 1 2 1 1 1 1 1 0 1 1 0 2 0 1 0 1 1 2 1 0 1 2 0 2 2 2 0 1 1 1 2 2 1\n",
      " 0 0 1 1 0 1 1 1 1 1 0 1 0 0 2 0 1 1 2 0 1 0 2 0 1 0]\n"
     ]
    }
   ],
   "source": [
    "# The sum of the two rows represents the number of tails.\n",
    "tails = np.sum(flips, axis=0)\n",
    "print(tails)\n"
   ]
  },
  {
   "cell_type": "code",
   "execution_count": 15,
   "metadata": {},
   "outputs": [
    {
     "name": "stdout",
     "output_type": "stream",
     "text": [
      "[0 0 0]\n"
     ]
    }
   ],
   "source": [
    "# Assign spaces to put the count \n",
    "number_of_tails = np.zeros(3, dtype='int')   \n",
    "print(number_of_tails)\n"
   ]
  },
  {
   "cell_type": "code",
   "execution_count": 26,
   "metadata": {},
   "outputs": [
    {
     "data": {
      "text/plain": [
       "5"
      ]
     },
     "execution_count": 26,
     "metadata": {},
     "output_type": "execute_result"
    }
   ],
   "source": [
    "a = np.array([[0, 1, 7, 0],\n",
    "              [3, 0, 2, 19]])\n",
    "np.count_nonzero(a)"
   ]
  },
  {
   "cell_type": "code",
   "execution_count": 28,
   "metadata": {},
   "outputs": [
    {
     "name": "stdout",
     "output_type": "stream",
     "text": [
      "[[ 0  1  7  0]\n",
      " [ 3  0  2 19]]\n"
     ]
    },
    {
     "data": {
      "text/plain": [
       "array([1, 1, 2, 1], dtype=int64)"
      ]
     },
     "execution_count": 28,
     "metadata": {},
     "output_type": "execute_result"
    }
   ],
   "source": [
    "print(a)\n",
    "np.count_nonzero(a, axis=0) "
   ]
  },
  {
   "cell_type": "code",
   "execution_count": 30,
   "metadata": {},
   "outputs": [
    {
     "name": "stdout",
     "output_type": "stream",
     "text": [
      "[[ 0  1  7  0]\n",
      " [ 3  0  2 19]]\n"
     ]
    },
    {
     "data": {
      "text/plain": [
       "array([2, 3], dtype=int64)"
      ]
     },
     "execution_count": 30,
     "metadata": {},
     "output_type": "execute_result"
    }
   ],
   "source": [
    "print(a)\n",
    "np.count_nonzero(a, axis=1)"
   ]
  },
  {
   "cell_type": "code",
   "execution_count": 32,
   "metadata": {},
   "outputs": [
    {
     "name": "stdout",
     "output_type": "stream",
     "text": [
      "[[ 0  1  7  0]\n",
      " [ 3  0  2 19]]\n"
     ]
    },
    {
     "data": {
      "text/plain": [
       "array([[2],\n",
       "       [3]], dtype=int64)"
      ]
     },
     "execution_count": 32,
     "metadata": {},
     "output_type": "execute_result"
    }
   ],
   "source": [
    "print(a)\n",
    "np.count_nonzero(a, axis=1, keepdims=True)"
   ]
  },
  {
   "cell_type": "code",
   "execution_count": 33,
   "metadata": {},
   "outputs": [
    {
     "name": "stdout",
     "output_type": "stream",
     "text": [
      "[1 0 2 1 2 1 2 2 1 1 1 2 1 0 2 1 0 2 1 0 0 1 1 1 2 1 1 1 0 2 0 2 1 1 1 0 2\n",
      " 0 2 2 2 1 2 1 1 1 1 1 0 1 1 0 2 0 1 0 1 1 2 1 0 1 2 0 2 2 2 0 1 1 1 2 2 1\n",
      " 0 0 1 1 0 1 1 1 1 1 0 1 0 0 2 0 1 1 2 0 1 0 2 0 1 0]\n",
      "number of 0, 1, 2 tails: [27 47 26]\n"
     ]
    }
   ],
   "source": [
    "print(tails)\n",
    "for i in range(3):\n",
    "    number_of_tails[i] = np.count_nonzero(tails == i)\n",
    "print('number of 0, 1, 2 tails:', number_of_tails)"
   ]
  },
  {
   "cell_type": "markdown",
   "metadata": {},
   "source": [
    "Another way to simulate flipping a coin twice, is to draw a number at random from a set of 2 numbers (0 and 1). \n",
    "\n",
    "You need to replace the number after every draw. \n",
    "\n",
    "> The `numpy` function to draw a random number from a given array is called `choice`. \\\n",
    "The `choice` function has a keyword to specify whether values are replaced or not. \n",
    "\n",
    "Hence the following two ways to generate 5 flips are identical."
   ]
  },
  {
   "cell_type": "code",
   "execution_count": 17,
   "metadata": {},
   "outputs": [
    {
     "name": "stdout",
     "output_type": "stream",
     "text": [
      "Flip1 are  [1 0 1 0 1]\n",
      "Flip2 are  [1 0 1 0 1]\n"
     ]
    }
   ],
   "source": [
    "rnd.seed(55)\n",
    "flips1 = rnd.randint(low=0, high=1 + 1, size=5)\n",
    "\n",
    "rnd.seed(55)\n",
    "flips2 = rnd.choice(range(2), size=5, replace=True)\n",
    "\n",
    "print('Flip1 are ',flips1)\n",
    "print('Flip2 are ',flips1)\n"
   ]
  },
  {
   "cell_type": "code",
   "execution_count": 18,
   "metadata": {},
   "outputs": [
    {
     "data": {
      "text/plain": [
       "True"
      ]
     },
     "execution_count": 18,
     "metadata": {},
     "output_type": "execute_result"
    }
   ],
   "source": [
    "np.alltrue(flips1 == flips2)  # Check whether all values in the two arrays are equal"
   ]
  },
  {
   "cell_type": "markdown",
   "metadata": {},
   "source": [
    "### Bar graph\n",
    "The outcome of the experiment may also be plotted with a bar graph"
   ]
  },
  {
   "cell_type": "code",
   "execution_count": 19,
   "metadata": {},
   "outputs": [
    {
     "data": {
      "image/png": "[encoded data removed]",
      "text/plain": [
       "<Figure size 640x480 with 1 Axes>"
      ]
     },
     "metadata": {},
     "output_type": "display_data"
    }
   ],
   "source": [
    "plt.bar(range(0, 3), number_of_tails)\n",
    "plt.xticks(range(0, 3))\n",
    "plt.xlabel('number of tails')\n",
    "plt.ylabel('occurence in 100 trials');"
   ]
  },
  {
   "cell_type": "markdown",
   "metadata": {},
   "source": [
    "### Cumulative Probability\n",
    "\n",
    "Next, we compute the experimental probability of 0 tails, 1 tail, and 2 tails through division by the total number of trials (one trial is two coin flips). \n",
    "\n",
    "The three probabilities add up to 1. \n",
    "\n",
    "The cumulative probability distribution is obtained by cumulatively summing the probabilities using the `cumsum` function of `numpy`. \n",
    "\n",
    "- The first value is the probability of throwing 0 tails. \n",
    "- The second value is the probability of 1 or fewer tails, and \n",
    "- the third value it the probability of 2 or fewer tails. \n",
    "- The probability is computed as the number of tails divided by the total number of trials."
   ]
  },
  {
   "cell_type": "code",
   "execution_count": 20,
   "metadata": {},
   "outputs": [
    {
     "name": "stdout",
     "output_type": "stream",
     "text": [
      "cum_prob is [0.27 0.74 1.  ]\n"
     ]
    }
   ],
   "source": [
    "prob = number_of_tails / 100     # number_of_tails was computed two code cells back\n",
    "cum_prob = np.cumsum(prob)       # So cum_prob[0] = prob[0], cum_prob[1] = prob[0] + prob[1], etc.\n",
    "print('cum_prob is', cum_prob)"
   ]
  },
  {
   "cell_type": "markdown",
   "metadata": {},
   "source": [
    "The cumulative probability distribution is plotted with a bar graph, making sure that all the bars touch each other (by setting the width to 1, in the case below)"
   ]
  },
  {
   "cell_type": "code",
   "execution_count": 21,
   "metadata": {},
   "outputs": [
    {
     "data": {
      "image/png": "[encoded data removed]",
      "text/plain": [
       "<Figure size 640x480 with 1 Axes>"
      ]
     },
     "metadata": {},
     "output_type": "display_data"
    }
   ],
   "source": [
    "plt.bar(range(0, 3), cum_prob, width=1)     # Don't change the size of 'width'\n",
    "plt.xticks(range(0, 3))\n",
    "plt.xlabel('number of tails in two flips')\n",
    "plt.ylabel('cumulative probability');"
   ]
  },
  {
   "cell_type": "markdown",
   "metadata": {},
   "source": [
    "### HW3-2. Flip a coin five times\n",
    "\n",
    "- Flip a coin five times in a row and record how many times you obtain tails (varying from 0-5). \n",
    "\n",
    "- Perform the experiment 1000 times. \n",
    "\n",
    "- Make a bar graph with the total number of tails on the horizontal axis and the experimentally computed probability to get that many tails, on the vertical axis. \n",
    "\n",
    "Execute your code several times (hit [shift]-[enter]) and see that the graph changes a bit every time, as the sequence of random numbers changes every time. "
   ]
  },
  {
   "cell_type": "code",
   "execution_count": 48,
   "metadata": {},
   "outputs": [],
   "source": [
    "import pandas as pd\n",
    "import numpy as np\n",
    "import numpy.random as rnd\n",
    "import matplotlib.pyplot as plt"
   ]
  },
  {
   "cell_type": "code",
   "execution_count": 49,
   "metadata": {},
   "outputs": [
    {
     "name": "stdout",
     "output_type": "stream",
     "text": [
      "number of 0, 1, 2, 3, 4, 5 tails: [ 33 159 299 321 156  32]\n"
     ]
    }
   ],
   "source": [
    "N=1000\n",
    "# rnd.seed(56)\n",
    "flips = rnd.randint(low=0, high=2, size=(5, 1000))\n",
    "# print(flips)\n",
    "tails = np.sum(flips, axis=0)\n",
    "# print(tails)\n",
    "\n",
    "number_of_tails = np.zeros(6, dtype='int')\n",
    "# print(number_of_tails)\n",
    "\n",
    "for i in range(6):\n",
    "    number_of_tails[i] = np.count_nonzero(tails == i)\n",
    "print('number of 0, 1, 2, 3, 4, 5 tails:', number_of_tails)\n",
    "# print(sum(number_of_tails))\n",
    "# Add your program\n",
    "# you might need to use rnd.randint(), np.sum(,axis=0), np.zeros(), np.count_nonzero(tail==1)\n",
    "# use 6 bars in your graph."
   ]
  },
  {
   "cell_type": "code",
   "execution_count": 6,
   "metadata": {},
   "outputs": [
    {
     "data": {
      "image/png": "[encoded data removed]",
      "text/plain": [
       "<Figure size 640x480 with 1 Axes>"
      ]
     },
     "metadata": {},
     "output_type": "display_data"
    }
   ],
   "source": [
    "# With the follwoing Lable\n",
    "prob = number_of_tails/1000\n",
    "# print(sum(prob))\n",
    "plt.bar(range(0,6), prob)\n",
    "plt.xticks(range(0, 6))\n",
    "plt.xlabel('number of tails in five flips')\n",
    "plt.ylabel('probability');"
   ]
  },
  {
   "cell_type": "markdown",
   "metadata": {},
   "source": [
    "Compute the cumulative probability. Print the values to the screen and make a plot of the cumulative probability function using a bar graph."
   ]
  },
  {
   "cell_type": "code",
   "execution_count": 50,
   "metadata": {},
   "outputs": [
    {
     "name": "stdout",
     "output_type": "stream",
     "text": [
      "cum_prob is [0.025 0.18  0.485 0.8   0.97  1.   ]\n"
     ]
    }
   ],
   "source": [
    "# Add your program here\n",
    "cum_prob = np.cumsum(prob)\n",
    "print('cum_prob is', cum_prob)\n",
    "# use np.cumsum() with 6 bars"
   ]
  },
  {
   "cell_type": "code",
   "execution_count": 51,
   "metadata": {},
   "outputs": [
    {
     "data": {
      "image/png": "[encoded data removed]",
      "text/plain": [
       "<Figure size 640x480 with 1 Axes>"
      ]
     },
     "metadata": {},
     "output_type": "display_data"
    }
   ],
   "source": [
    "# With the follwoing Lable\n",
    "plt.bar(range(0,6), cum_prob)\n",
    "plt.xticks(range(0,6))\n",
    "plt.xlabel('number of tails in five flips')\n",
    "plt.ylabel('cumulative probability');"
   ]
  },
  {
   "cell_type": "markdown",
   "metadata": {},
   "source": [
    "### Probability of a Bernouilli variable\n",
    "\n",
    "In the previous exercise, we computed the probability of a certain number of heads in five flips experimentally. \n",
    "\n",
    "But we can, of course, compute the value exactly by using a few simple formulas. \n",
    "\n",
    "Consider \n",
    "- the random variable $Y$, which is the outcome of an experiment with two possible values 0 and 1. \n",
    "\n",
    "- Let $p$ be the probability of success, $p=P(Y=1)$. \n",
    "\n",
    "- Then $Y$ is said to be a Bernoulli variable. \n",
    "\n",
    "- The experiment is repeated $n$ times and we define $X$ as the number of successes in the experiment. \n",
    "\n",
    "- The variable $X$ has a Binomial Distribution with parameters $n$ and $p$. \n",
    "\n",
    "The probability that $X$ takes value $k$ can be computed as \n",
    "\n",
    "$$P(X=k) = \\binom{n}{k}p^k(1-p)^{n-k}$$\n",
    "\n",
    "The term $\\binom{n}{k}$ may be computed with the `comb` function, which needs to be imported from the `scipy.special` package."
   ]
  },
  {
   "cell_type": "markdown",
   "metadata": {},
   "source": [
    "### HW3-3. Flip a coin 5 times revisited\n",
    "\n",
    "Go back to the experiment where we flip a coin five times in a row and record how many times we obtain tails.\n",
    "\n",
    "- Compute the theoretical probability for 0, 1, 2, 3, 4, and 5 tails and \n",
    "- compare your answer to the probability computed from 1000 trials, 10000 trials, and 100000 trials (use a loop for these three sets of trials). \n",
    "\n",
    "Do you approach the theoretical value with more trials?"
   ]
  },
  {
   "cell_type": "code",
   "execution_count": null,
   "metadata": {},
   "outputs": [],
   "source": []
  },
  {
   "cell_type": "code",
   "execution_count": 52,
   "metadata": {},
   "outputs": [
    {
     "name": "stdout",
     "output_type": "stream",
     "text": [
      "Theoretical probabilities:\n",
      "Exact probability: [0.03125, 0.15625, 0.3125, 0.3125, 0.15625, 0.03125]\n",
      "Probability with 1000 trials: [0.031 0.16  0.307 0.334 0.139 0.029]\n",
      "Probability with 10000 trials: [0.0315 0.1579 0.3083 0.3098 0.1634 0.0291]\n",
      "Probability with 100000 trials: [0.03093 0.15591 0.31454 0.31266 0.15484 0.03112]\n"
     ]
    }
   ],
   "source": [
    "# add you program. you need to use \"for\" loop two times. \n",
    "# one for Exact probability. the other for probability with 1000 trials, 10000, and 100000 trials\n",
    "\n",
    "from scipy.special import comb\n",
    "#number of trials?\n",
    "n = 5\n",
    "p = 0.5\n",
    "\n",
    "pexact = []\n",
    "\n",
    "for k in range(6):\n",
    "    binomial_coeff = comb(n,k)\n",
    "    probability = binomial_coeff * (p**k) * ((1-p)**(n-k))\n",
    "    pexact.append(probability)\n",
    "\n",
    "\n",
    "n = [1000, 10000, 100000]\n",
    "\n",
    "\n",
    "print('Theoretical probabilities:')\n",
    "print('Exact probability: ' + str(pexact))\n",
    "\n",
    "number_of_tails = np.zeros(6, dtype='int')\n",
    "\n",
    "for j in range(3):\n",
    "    flips = rnd.randint(low=0, high=2, size=(5,n[j]))\n",
    "#     print(flips)\n",
    "    tails = np.sum(flips, axis=0)\n",
    "    for i in range(6):\n",
    "        number_of_tails[i] = np.count_nonzero(tails == i)\n",
    "\n",
    "    print('Probability with ' + str(n[j]) +' trials: ' +str(number_of_tails/n[j]))\n",
    "#     print(number_of_tails/n[j])\n",
    "  \n",
    "# print(number_of_tails)"
   ]
  },
  {
   "cell_type": "markdown",
   "metadata": {},
   "source": [
    "__Output Format:__\n",
    "\n",
    "Theoretical probabilities:\n",
    "\n",
    "Exact probability: [0.xxxxx 0.xxxxx 0.xxxxx  0.xxxxx  0.xxxxx 0.xxxxx]\n",
    "\n",
    "Probability with 1000 trials: [0.xxxxx 0.xxxxx 0.xxxxx  0.xxxxx  0.xxxxx 0.xxxxx]\n",
    "\n",
    "Probability with 10000 trials: [0.xxxxx 0.xxxxx 0.xxxxx  0.xxxxx  0.xxxxx 0.xxxxx]\n",
    "\n",
    "Probability with 100000 trials: [0.xxxxx 0.xxxxx 0.xxxxx  0.xxxxx  0.xxxxx 0.xxxxx]"
   ]
  },
  {
   "cell_type": "markdown",
   "metadata": {},
   "source": [
    "### Generate random integers with non-equal probabilities\n",
    "\n",
    "We have generated random numbers of which the probability of each outcome was the same (heads or tails, or the numbers on a dice, considering the throwing device was \"fair\"). \n",
    "\n",
    "What now if we want to generate outcomes that don't have the same probability? \n",
    "\n",
    "For example, consider the case that we have a bucket with __4 blue balls__ and __6 red balls__. \n",
    "\n",
    "When you draw a ball at random, the probability of a blue ball is __0.4__ and the probability of a red ball is __0.6__. \n",
    "\n",
    "A sequence of drawing ten balls, with replacement, may be generated as follows"
   ]
  },
  {
   "cell_type": "code",
   "execution_count": 53,
   "metadata": {},
   "outputs": [
    {
     "name": "stdout",
     "output_type": "stream",
     "text": [
      "balls: [0 0 0 0 1 1 1 1 1 1]\n"
     ]
    }
   ],
   "source": [
    "balls = np.zeros(10, dtype='int') # zero is blue\n",
    "balls[4:] = 1  # one is red\n",
    "print('balls:', balls)\n"
   ]
  },
  {
   "cell_type": "code",
   "execution_count": 54,
   "metadata": {},
   "outputs": [
    {
     "name": "stdout",
     "output_type": "stream",
     "text": [
      "drawing 10 balls with replacement\n",
      "drawing: [1 1 1 1 1 0 1 1 1 0]\n",
      "blue balls: 2\n",
      "red balls: 8\n"
     ]
    }
   ],
   "source": [
    "print('drawing 10 balls with replacement')\n",
    "rnd.seed(77)\n",
    "drawing = rnd.choice(balls, 10, replace=True)\n",
    "print('drawing:', drawing)\n",
    "print('blue balls:', np.count_nonzero(drawing == 0))\n",
    "print('red balls:', np.count_nonzero(drawing == 1))"
   ]
  },
  {
   "cell_type": "code",
   "execution_count": 55,
   "metadata": {},
   "outputs": [
    {
     "name": "stdout",
     "output_type": "stream",
     "text": [
      "drawing 10 balls without replacement\n",
      "drawing: [0 0 1 1 0 1 0 1 1 1]\n",
      "blue balls: 4\n",
      "red balls: 6\n"
     ]
    }
   ],
   "source": [
    "#balls = np.zeros(10, dtype='int') # zero is blue\n",
    "#balls[4:] = 1  # one is red\n",
    "#print('balls:', balls)\n",
    "\n",
    "print('drawing 10 balls without replacement')\n",
    "rnd.seed(77)\n",
    "drawing = rnd.choice(balls, 10, replace=False)\n",
    "print('drawing:', drawing)\n",
    "print('blue balls:', np.count_nonzero(drawing == 0))\n",
    "print('red balls:', np.count_nonzero(drawing == 1))"
   ]
  },
  {
   "cell_type": "markdown",
   "metadata": {},
   "source": [
    "In the previous example, we generated an example with 4 blue balls (zeros) and 6 red balls (ones), which was easy. \n",
    "\n",
    "But you can see this gets cumbersome when we have 4 million blue balls and 6 million red balls. \n",
    "\n",
    "But luckily, the `choice` function has an alternative: you can specifiy a sequence of values, and for each value you can specify the probability that it is drawn. \n",
    "\n",
    "Obviously, the `replace=False` argument doesn't make much sense anymore when the probabilities are specified (as the probabilities change when balls are not replaced). \n",
    "\n",
    "Repeating the previous example with replacement by specifying probabilities gives"
   ]
  },
  {
   "cell_type": "code",
   "execution_count": 56,
   "metadata": {},
   "outputs": [
    {
     "name": "stdout",
     "output_type": "stream",
     "text": [
      "drawing: [1 0 1 0 1 1 1 1 1 0]\n",
      "blue balls: 3\n",
      "red balls: 7\n"
     ]
    }
   ],
   "source": [
    "drawing = rnd.choice([0, 1], 10, p=[0.4, 0.6])  # replace=False by default\n",
    "print('drawing:', drawing)\n",
    "print('blue balls:', np.count_nonzero(drawing == 0))\n",
    "print('red balls:', np.count_nonzero(drawing == 1))"
   ]
  },
  {
   "cell_type": "markdown",
   "metadata": {},
   "source": [
    "Another cool feature of the `choice` function is that it also works on lists. For example, to pick 3 names at random from a list of 11 gives:"
   ]
  },
  {
   "cell_type": "code",
   "execution_count": 16,
   "metadata": {},
   "outputs": [
    {
     "data": {
      "text/plain": [
       "array(['Daley', 'Quincy', 'Donny'], dtype='<U8')"
      ]
     },
     "execution_count": 16,
     "metadata": {},
     "output_type": "execute_result"
    }
   ],
   "source": [
    "names = ['Andre', 'Daley', 'Mathijs', 'Nico', 'Noussair', 'Frenkie', 'Donny', 'Hakim', 'Dusan', 'Quincy', 'KlaasJan']\n",
    "rnd.choice(names, 3, replace=True)"
   ]
  },
  {
   "cell_type": "markdown",
   "metadata": {},
   "source": [
    "### HW3-4. Election poll\n",
    "\n",
    "Consider an election where one million people will vote. \n",
    "\n",
    "- 490,000 people will vote for candidate $A$ and 510,000 people will vote for candidate $B$. \n",
    "\n",
    "- One day before the election, the company of 'Maurice the Dog' conducts a poll among 1000 randomly chosen voters. \n",
    "\n",
    "- Compute whether the Dog will predict the winner correctly using the approach explained above and a seed of 2."
   ]
  },
  {
   "cell_type": "code",
   "execution_count": 57,
   "metadata": {},
   "outputs": [],
   "source": [
    "import pandas as pd\n",
    "import numpy as np\n",
    "import numpy.random as rnd\n",
    "import matplotlib.pyplot as plt\n",
    "\n",
    "rnd.seed(2)\n"
   ]
  },
  {
   "cell_type": "code",
   "execution_count": 58,
   "metadata": {},
   "outputs": [],
   "source": [
    "# Add your program here\n",
    "# YOu might need to use rnd.choice(), np.count_nonzero()\n",
    "p1 = 490000/1000000\n",
    "p2 = 510000/1000000\n",
    "prediction = rnd.choice(['A','B'], 1000, p=[p1, p2])\n",
    "# print(prediction)"
   ]
  },
  {
   "cell_type": "code",
   "execution_count": 59,
   "metadata": {},
   "outputs": [
    {
     "name": "stdout",
     "output_type": "stream",
     "text": [
      "polled for A: 522\n",
      "The Dog will predict the wrong winner\n"
     ]
    }
   ],
   "source": [
    "polled_for_A = np.count_nonzero(prediction == 'A')\n",
    "polled_for_B = np.count_nonzero(prediction == 'B')\n",
    "print('polled for A:', polled_for_A)         # polled_for_A is for np.count_nonzero()\n",
    "if polled_for_A > 500: \n",
    "    print('The Dog will predict the wrong winner')\n",
    "else:\n",
    "    print('The Dog will predict the correct winner')"
   ]
  },
  {
   "cell_type": "markdown",
   "metadata": {},
   "source": [
    "Perform the poll 1000 times. \n",
    "\n",
    "- Count how many times the outcome of the poll is that candidate $A$ wins and how many times the outcome of the poll is that candidate $B$ wins. \n",
    "\n",
    "- What is the probability that the Dog will predict the correct winner based on these 1000 polls of 1000 people? "
   ]
  },
  {
   "cell_type": "code",
   "execution_count": 60,
   "metadata": {},
   "outputs": [],
   "source": [
    "Awins = 0\n",
    "Bwins = 0"
   ]
  },
  {
   "cell_type": "code",
   "execution_count": 61,
   "metadata": {},
   "outputs": [],
   "source": [
    "# Add your program using **for** statement. You might need to use If--else--- inside for loop\n",
    "p1 = 490000/1000000\n",
    "p2 = 510000/1000000\n",
    "for i in range(1000):\n",
    "    prediction = rnd.choice(['A', 'B'], 1000, p=[p1, p2])\n",
    "    polled_for_A = np.count_nonzero(prediction == 'A')\n",
    "    polled_for_B = np.count_nonzero(prediction == 'B')\n",
    "    if polled_for_A > polled_for_B:\n",
    "        Awins += 1\n",
    "    else:\n",
    "        Bwins += 1\n",
    "# Also you need to use rnd.choice() and np.count_nonzero() befor IF--else--"
   ]
  },
  {
   "cell_type": "code",
   "execution_count": 62,
   "metadata": {},
   "outputs": [
    {
     "name": "stdout",
     "output_type": "stream",
     "text": [
      "1000 polls of 1000 people\n",
      "Probability that The Dog predicts candidate A to win: 0.262\n"
     ]
    }
   ],
   "source": [
    "print('1000 polls of 1000 people')\n",
    "print('Probability that The Dog predicts candidate A to win:', Awins / 1000)"
   ]
  },
  {
   "cell_type": "markdown",
   "metadata": {},
   "source": [
    "Compute the probability that the Dog will predict the correct winner based on 1000 polls of 5000 people. \n",
    "\n",
    "Does the probability that The Dog predicts the correct winner increase significantly when he polls 5000 people?"
   ]
  },
  {
   "cell_type": "code",
   "execution_count": 63,
   "metadata": {},
   "outputs": [],
   "source": [
    "Awins = 0\n",
    "Bwins = 0"
   ]
  },
  {
   "cell_type": "code",
   "execution_count": 64,
   "metadata": {},
   "outputs": [],
   "source": [
    "# Update your previous program for condition or something else.\n",
    "p1 = 490000/1000000\n",
    "p2 = 510000/1000000\n",
    "for i in range(1000):\n",
    "    prediction = rnd.choice(['A', 'B'], 5000, p=[p1, p2])\n",
    "    polled_for_A = np.count_nonzero(prediction == 'A')\n",
    "    polled_for_B = np.count_nonzero(prediction == 'B')\n",
    "    if polled_for_A > polled_for_B:\n",
    "        Awins += 1\n",
    "    else:\n",
    "        Bwins += 1"
   ]
  },
  {
   "cell_type": "code",
   "execution_count": 66,
   "metadata": {},
   "outputs": [
    {
     "name": "stdout",
     "output_type": "stream",
     "text": [
      "1000 polls of 5000 people\n",
      "Probability that The Dog predicts candidate A to win: 0.071\n"
     ]
    }
   ],
   "source": [
    "print('1000 polls of 5000 people')\n",
    "print('Probability that The Dog predicts candidate A to win:', Awins / 1000)\n",
    "#Yes, the probability of selecting the correct winner(B) increases when he polls 5000 people"
   ]
  },
  {
   "cell_type": "markdown",
   "metadata": {},
   "source": []
  },
  {
   "cell_type": "code",
   "execution_count": null,
   "metadata": {},
   "outputs": [],
   "source": []
  },
  {
   "cell_type": "code",
   "execution_count": null,
   "metadata": {},
   "outputs": [],
   "source": []
  },
  {
   "cell_type": "code",
   "execution_count": null,
   "metadata": {},
   "outputs": [],
   "source": []
  },
  {
   "cell_type": "code",
   "execution_count": null,
   "metadata": {},
   "outputs": [],
   "source": []
  },
  {
   "cell_type": "code",
   "execution_count": null,
   "metadata": {},
   "outputs": [],
   "source": []
  },
  {
   "cell_type": "code",
   "execution_count": null,
   "metadata": {},
   "outputs": [],
   "source": []
  },
  {
   "cell_type": "code",
   "execution_count": null,
   "metadata": {},
   "outputs": [],
   "source": []
  }
 ],
 "metadata": {
  "kernelspec": {
   "display_name": "Python 3 (ipykernel)",
   "language": "python",
   "name": "python3"
  },
  "language_info": {
   "codemirror_mode": {
    "name": "ipython",
    "version": 3
   },
   "file_extension": ".py",
   "mimetype": "text/x-python",
   "name": "python",
   "nbconvert_exporter": "python",
   "pygments_lexer": "ipython3",
   "version": "3.11.4"
  },
  "latex_envs": {
   "LaTeX_envs_menu_present": true,
   "autoclose": false,
   "autocomplete": true,
   "bibliofile": "biblio.bib",
   "cite_by": "apalike",
   "current_citInitial": 1,
   "eqLabelWithNumbers": true,
   "eqNumInitial": 1,
   "hotkeys": {
    "equation": "Ctrl-E",
    "itemize": "Ctrl-I"
   },
   "labels_anchors": false,
   "latex_user_defs": false,
   "report_style_numbering": false,
   "user_envs_cfg": false
  }
 },
 "nbformat": 4,
 "nbformat_minor": 4
}
